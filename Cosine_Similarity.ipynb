{
  "nbformat": 4,
  "nbformat_minor": 0,
  "metadata": {
    "colab": {
      "provenance": []
    },
    "kernelspec": {
      "name": "python3",
      "display_name": "Python 3"
    },
    "language_info": {
      "name": "python"
    }
  },
  "cells": [
    {
      "cell_type": "code",
      "source": [
        "from google.colab import drive\n",
        "drive.mount('/content/drive')"
      ],
      "metadata": {
        "id": "p950vqcx27Zy",
        "colab": {
          "base_uri": "https://localhost:8080/"
        },
        "outputId": "e871e072-90c7-4165-9cf1-d3c3233e1435"
      },
      "execution_count": null,
      "outputs": [
        {
          "output_type": "stream",
          "name": "stdout",
          "text": [
            "Drive already mounted at /content/drive; to attempt to forcibly remount, call drive.mount(\"/content/drive\", force_remount=True).\n"
          ]
        }
      ]
    },
    {
      "cell_type": "code",
      "source": [
        "import tensorflow as tf\n",
        "import tensorflow_hub as hub\n",
        "from PIL import Image\n",
        "import numpy as np"
      ],
      "metadata": {
        "id": "tTNX1OLf2cgY"
      },
      "execution_count": null,
      "outputs": []
    },
    {
      "cell_type": "code",
      "source": [
        "model_url = \"https://tfhub.dev/tensorflow/efficientnet/lite0/feature-vector/2\"\n",
        "\n",
        "IMAGE_SHAPE = (224, 224)\n",
        "\n",
        "layer = hub.KerasLayer(model_url)\n",
        "model = tf.keras.Sequential([layer])"
      ],
      "metadata": {
        "id": "scpqtOQpT7PY"
      },
      "execution_count": null,
      "outputs": []
    },
    {
      "cell_type": "code",
      "source": [
        "def extract(file):\n",
        "  file = Image.open(file).convert('L').resize(IMAGE_SHAPE)\n",
        "  #display(file)\n",
        "\n",
        "  file = np.stack((file,)*3, axis=-1)\n",
        "\n",
        "  file = np.array(file)/255.0\n",
        "\n",
        "  embedding = model.predict(file[np.newaxis, ...])\n",
        "  #print(embedding)\n",
        "  vgg16_feature_np = np.array(embedding)\n",
        "  flattended_feature = vgg16_feature_np.flatten()\n",
        "\n",
        "  #print(len(flattended_feature))\n",
        "  #print(flattended_feature)\n",
        "  #print('-----------')\n",
        "  return flattended_feature"
      ],
      "metadata": {
        "id": "da2oe5KRT8Dv"
      },
      "execution_count": null,
      "outputs": []
    },
    {
      "cell_type": "code",
      "source": [
        "pic1 = extract('/content/drive/MyDrive/1.png')\n",
        "pic2 = extract('/content/drive/MyDrive/13.png')\n",
        "rocket = extract('/content/drive/MyDrive/9.png')"
      ],
      "metadata": {
        "colab": {
          "base_uri": "https://localhost:8080/"
        },
        "id": "cCoU9zKST9Ug",
        "outputId": "2b4fcea9-fff6-4791-d432-89bca4235f40"
      },
      "execution_count": null,
      "outputs": [
        {
          "output_type": "stream",
          "name": "stdout",
          "text": [
            "1/1 [==============================] - 1s 732ms/step\n",
            "1/1 [==============================] - 0s 79ms/step\n",
            "1/1 [==============================] - 0s 71ms/step\n"
          ]
        }
      ]
    },
    {
      "cell_type": "code",
      "source": [
        "from scipy.spatial import distance"
      ],
      "metadata": {
        "id": "JEsFgODET-rX"
      },
      "execution_count": null,
      "outputs": []
    },
    {
      "cell_type": "code",
      "source": [
        "metric = 'cosine'"
      ],
      "metadata": {
        "id": "z1DSQ3j-UJFA"
      },
      "execution_count": null,
      "outputs": []
    },
    {
      "cell_type": "code",
      "source": [
        "dc = distance.cdist([pic1], [pic1], metric)[0]\n",
        "print(dc)\n",
        "print(\"the distance between original and the original is {}\".format(dc))"
      ],
      "metadata": {
        "colab": {
          "base_uri": "https://localhost:8080/"
        },
        "id": "xaAps0NwUKBn",
        "outputId": "e1f0509c-5a2f-45d5-a77c-eb2cd6a781f6"
      },
      "execution_count": null,
      "outputs": [
        {
          "output_type": "stream",
          "name": "stdout",
          "text": [
            "[0.]\n",
            "the distance between original and the original is [0.]\n"
          ]
        }
      ]
    },
    {
      "cell_type": "code",
      "source": [
        "dc = distance.cdist([pic1], [pic2], metric)[0]\n",
        "print(dc)\n",
        "print(\"the distance between original and the original is {}\".format(dc))"
      ],
      "metadata": {
        "colab": {
          "base_uri": "https://localhost:8080/"
        },
        "id": "cIP-yI67ULJO",
        "outputId": "c12dad6f-dd9f-47e1-a164-c11487d2c174"
      },
      "execution_count": null,
      "outputs": [
        {
          "output_type": "stream",
          "name": "stdout",
          "text": [
            "[0.43862038]\n",
            "the distance between original and the original is [0.43862038]\n"
          ]
        }
      ]
    },
    {
      "cell_type": "code",
      "source": [
        "dc = distance.cdist([pic1], [rocket], metric)[0]\n",
        "print(dc)\n",
        "print(\"the distance between original and the original is {}\".format(dc))"
      ],
      "metadata": {
        "colab": {
          "base_uri": "https://localhost:8080/"
        },
        "id": "ZQL_9hz6UMW3",
        "outputId": "1d8969d6-f994-452d-fc2d-dcecd5edd927"
      },
      "execution_count": null,
      "outputs": [
        {
          "output_type": "stream",
          "name": "stdout",
          "text": [
            "[0.43436043]\n",
            "the distance between original and the original is [0.43436043]\n"
          ]
        }
      ]
    },
    {
      "cell_type": "code",
      "source": [
        "dc = distance.cdist([pic2], [rocket], metric)[0]\n",
        "print(dc)\n",
        "print(\"the distance between original and the original is {}\".format(dc))"
      ],
      "metadata": {
        "colab": {
          "base_uri": "https://localhost:8080/"
        },
        "id": "y63jsDgUUNOv",
        "outputId": "b9107553-d07f-4e0f-da14-d8cc8850fdc4"
      },
      "execution_count": null,
      "outputs": [
        {
          "output_type": "stream",
          "name": "stdout",
          "text": [
            "[0.31039413]\n",
            "the distance between original and the original is [0.31039413]\n"
          ]
        }
      ]
    },
    {
      "cell_type": "code",
      "source": [],
      "metadata": {
        "id": "KjsC6E4_UOHU"
      },
      "execution_count": null,
      "outputs": []
    }
  ]
}